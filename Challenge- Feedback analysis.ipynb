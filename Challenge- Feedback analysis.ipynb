{
 "cells": [
  {
   "cell_type": "code",
   "execution_count": 1,
   "metadata": {},
   "outputs": [],
   "source": [
    "%matplotlib inline\n",
    "import numpy as np\n",
    "import pandas as pd\n",
    "import scipy\n",
    "import sklearn\n",
    "import matplotlib.pyplot as plt\n",
    "import seaborn as sns"
   ]
  },
  {
   "cell_type": "markdown",
   "metadata": {},
   "source": [
    "# Loading Data"
   ]
  },
  {
   "cell_type": "code",
   "execution_count": 32,
   "metadata": {},
   "outputs": [
    {
     "name": "stdout",
     "output_type": "stream",
     "text": [
      "                                               message  feedback\n",
      "0    So there is no way for me to plug it in here i...         0\n",
      "1                          Good case, Excellent value.         1\n",
      "2                               Great for the jawbone.         1\n",
      "3    Tied to charger for conversations lasting more...         0\n",
      "4                                    The mic is great.         1\n",
      "5    I have to jiggle the plug to get it to line up...         0\n",
      "6    If you have several dozen or several hundred c...         0\n",
      "7          If you are Razr owner...you must have this!         1\n",
      "8                  Needless to say, I wasted my money.         0\n",
      "9                     What a waste of money and time!.         0\n",
      "10                     And the sound quality is great.         1\n",
      "11   He was very impressed when going from the orig...         1\n",
      "12   If the two were seperated by a mere 5+ ft I st...         0\n",
      "13                            Very good quality though         1\n",
      "14   The design is very odd, as the ear \"clip\" is n...         0\n",
      "15   Highly recommend for any one who has a blue to...         1\n",
      "16                 I advise EVERYONE DO NOT BE FOOLED!         0\n",
      "17                                    So Far So Good!.         1\n",
      "18                                       Works great!.         1\n",
      "19   It clicks into place in a way that makes you w...         0\n",
      "20   I went on Motorola's website and followed all ...         0\n",
      "21   I bought this to use with my Kindle Fire and a...         1\n",
      "22            The commercials are the most misleading.         0\n",
      "23   I have yet to run this new battery below two b...         1\n",
      "24   I bought it for my mother and she had a proble...         0\n",
      "25                Great Pocket PC / phone combination.         1\n",
      "26   I've owned this phone for 7 months now and can...         1\n",
      "27   I didn't think that the instructions provided ...         0\n",
      "28   People couldnt hear me talk and I had to pull ...         0\n",
      "29                                Doesn't hold charge.         0\n",
      "..                                                 ...       ...\n",
      "95                         Will order from them again!         1\n",
      "96   If you plan to use this in a car forget about it.         0\n",
      "97           I found this product to be waaay too big.         0\n",
      "98   Best I've found so far .... I've tried 2 other...         1\n",
      "99             I'm very disappointed with my decision.         0\n",
      "100  Integrated seamlessly with the Motorola RAZR p...         1\n",
      "101  Buyer Beware, you could flush money right down...         0\n",
      "102                              Definitely a bargain.         1\n",
      "103  The price was very good and with the free ship...         1\n",
      "104  I received my supposedly new motorola 375 and ...         0\n",
      "105  Pros:-Good camera - very nice pictures , also ...         1\n",
      "106  That's a huge design flaw (unless I'm not usin...         0\n",
      "107  I love my 350 headset.. My Jabra350 bluetooth ...         1\n",
      "108  The camera, although rated at an impressive 1....         0\n",
      "109  I purcashed this for the car charger and it do...         0\n",
      "110  Sound quality on both end is excellent, I use ...         1\n",
      "111  This phone is slim and light and the display i...         1\n",
      "112  its a little geeky but i think thats its sex o...         1\n",
      "113                     Great product, fast shipping!.         1\n",
      "114                                  Absolutely great.         1\n",
      "115  The keyboard is a nice compromise between a fu...         1\n",
      "116  i got this phone around the end of may and i'm...         0\n",
      "117                 It is very comfortable on the ear.         1\n",
      "118                       It has been a winner for us.         1\n",
      "119                 )Setup couldn't have been simpler.         1\n",
      "120  I've tried several different earpieces for my ...         1\n",
      "121                Could not get strong enough signal.         0\n",
      "122                 Iam very pleased with my purchase.         1\n",
      "123                                       Bad Quality.         0\n",
      "124                                 Gets the job done.         1\n",
      "\n",
      "[125 rows x 2 columns]\n"
     ]
    }
   ],
   "source": [
    "amazon_feedback_raw = pd.read_csv(\"/Users/saurabh/Documents/sentimentLabelledSentences/amazon_cells_labelled.txt\", delimiter= '\\t', header=None)\n",
    "amazon_feedback_raw.columns = ['message', 'feedback']\n",
    "print(amazon_feedback_raw.head(125))"
   ]
  },
  {
   "cell_type": "markdown",
   "metadata": {},
   "source": [
    "At the most obvious level, a feature from the message can be whether it contains a given word. Let's add those columns to our dataframe. The words chosen below are simply intuited as possibly having something to do with positive feedback. "
   ]
  },
  {
   "cell_type": "code",
   "execution_count": 39,
   "metadata": {},
   "outputs": [],
   "source": [
    "keywords = ['Good', 'Excellent', 'Great', 'impressed', 'Highly', 'recommend', 'SWEETEST', 'fine', 'Loved', 'free']\n",
    "\n",
    "for key in keywords:\n",
    "    amazon_feedback_raw[str(key)] = amazon_feedback_raw.message.str.contains(''+str(key)+'', case=False)\n",
    "\n",
    "#print(feedback_raw)"
   ]
  },
  {
   "cell_type": "code",
   "execution_count": 40,
   "metadata": {},
   "outputs": [
    {
     "data": {
      "text/plain": [
       "<matplotlib.axes._subplots.AxesSubplot at 0x111d77d30>"
      ]
     },
     "execution_count": 40,
     "metadata": {},
     "output_type": "execute_result"
    },
    {
     "data": {
      "image/png": "[encoded data removed]",
      "text/plain": [
       "<Figure size 432x288 with 2 Axes>"
      ]
     },
     "metadata": {},
     "output_type": "display_data"
    }
   ],
   "source": [
    "sns.heatmap(amazon_feedback_raw.corr(), cmap=\"YlGnBu\")"
   ]
  },
  {
   "cell_type": "markdown",
   "metadata": {},
   "source": [
    "That is actually a great looking plot for us. Most of the words show strong independence from each other. The only exceptions are highly:recommend and great:feedback. For now, let's keep everything in the dataset."
   ]
  },
  {
   "cell_type": "code",
   "execution_count": 70,
   "metadata": {},
   "outputs": [],
   "source": [
    "data = amazon_feedback_raw[keywords]\n",
    "target = amazon_feedback_raw['feedback']"
   ]
  },
  {
   "cell_type": "code",
   "execution_count": 72,
   "metadata": {},
   "outputs": [
    {
     "name": "stdout",
     "output_type": "stream",
     "text": [
      "Number of mislabeled points out of total 1000 points:364\n"
     ]
    }
   ],
   "source": [
    "from sklearn.naive_bayes import GaussianNB\n",
    "\n",
    "# Instantiate our model and store it in a new variable.\n",
    "bnb = GaussianNB()\n",
    "\n",
    "# Fit our model to the data.\n",
    "bnb.fit(data, target)\n",
    "\n",
    "# Classify, storing the result in a new variable.\n",
    "y_pred = bnb.predict(data)\n",
    "\n",
    "# Display our results.\n",
    "\n",
    "print(\"Number of mislabeled points out of total {} points:{}\".format(data.shape[0], (target != y_pred).sum()))\n"
   ]
  },
  {
   "cell_type": "markdown",
   "metadata": {},
   "source": [
    "The result above shows that accuracy is not that great but "
   ]
  },
  {
   "cell_type": "code",
   "execution_count": 43,
   "metadata": {},
   "outputs": [
    {
     "name": "stdout",
     "output_type": "stream",
     "text": [
      "                                               message  feedback\n",
      "0                             Wow... Loved this place.         1\n",
      "1                                   Crust is not good.         0\n",
      "2            Not tasty and the texture was just nasty.         0\n",
      "3    Stopped by during the late May bank holiday of...         1\n",
      "4    The selection on the menu was great and so wer...         1\n",
      "5       Now I am getting angry and I want my damn pho.         0\n",
      "6                Honeslty it didn't taste THAT fresh.)         0\n",
      "7    The potatoes were like rubber and you could te...         0\n",
      "8                            The fries were great too.         1\n",
      "9                                       A great touch.         1\n",
      "10                            Service was very prompt.         1\n",
      "11                                  Would not go back.         0\n",
      "12   The cashier had no care what so ever on what I...         0\n",
      "13   I tried the Cape Cod ravoli, chicken,with cran...         1\n",
      "14   I was disgusted because I was pretty sure that...         0\n",
      "15   I was shocked because no signs indicate cash o...         0\n",
      "16                                 Highly recommended.         1\n",
      "17              Waitress was a little slow in service.         0\n",
      "18   This place is not worth your time, let alone V...         0\n",
      "19                                did not like at all.         0\n",
      "20                                 The Burrittos Blah!         0\n",
      "21                                  The food, amazing.         1\n",
      "22                               Service is also cute.         1\n",
      "23   I could care less... The interior is just beau...         1\n",
      "24                                  So they performed.         1\n",
      "25   That's right....the red velvet cake.....ohhh t...         1\n",
      "26          - They never brought a salad we asked for.         0\n",
      "27   This hole in the wall has great Mexican street...         1\n",
      "28   Took an hour to get our food only 4 tables in ...         0\n",
      "29                   The worst was the salmon sashimi.         0\n",
      "..                                                 ...       ...\n",
      "970  I immediately said I wanted to talk to the man...         0\n",
      "971                    The ambiance isn't much better.         0\n",
      "972  Unfortunately, it only set us up for disapppoi...         0\n",
      "973                              The food wasn't good.         0\n",
      "974  Your servers suck, wait, correction, our serve...         0\n",
      "975      What happened next was pretty....off putting.         0\n",
      "976  too bad cause I know it's family owned, I real...         0\n",
      "977               Overpriced for what you are getting.         0\n",
      "978               I vomited in the bathroom mid lunch.         0\n",
      "979  I kept looking at the time and it had soon bec...         0\n",
      "980  I have been to very few places to eat that und...         0\n",
      "981  We started with the tuna sashimi which was bro...         0\n",
      "982                            Food was below average.         0\n",
      "983  It sure does beat the nachos at the movies but...         0\n",
      "984       All in all, Ha Long Bay was a bit of a flop.         0\n",
      "985  The problem I have is that they charge $11.99 ...         0\n",
      "986  Shrimp- When I unwrapped it (I live only 1/2 a...         0\n",
      "987     It lacked flavor, seemed undercooked, and dry.         0\n",
      "988  It really is impressive that the place hasn't ...         0\n",
      "989  I would avoid this place if you are staying in...         0\n",
      "990  The refried beans that came with my meal were ...         0\n",
      "991         Spend your money and time some place else.         0\n",
      "992  A lady at the table next to us found a live gr...         0\n",
      "993            the presentation of the food was awful.         0\n",
      "994           I can't tell you how disappointed I was.         0\n",
      "995  I think food should have flavor and texture an...         0\n",
      "996                           Appetite instantly gone.         0\n",
      "997  Overall I was not impressed and would not go b...         0\n",
      "998  The whole experience was underwhelming, and I ...         0\n",
      "999  Then, as if I hadn't wasted enough of my life ...         0\n",
      "\n",
      "[1000 rows x 2 columns]\n"
     ]
    }
   ],
   "source": [
    "yelp_feedback_raw = pd.read_csv('/Users/saurabh/Documents/sentimentLabelledSentences/yelp_labelled.txt', delimiter= '\\t', header=None)\n",
    "yelp_feedback_raw.columns = ['message', 'feedback']\n",
    "print(yelp_feedback_raw)"
   ]
  },
  {
   "cell_type": "code",
   "execution_count": 44,
   "metadata": {},
   "outputs": [],
   "source": [
    "for key in keywords:\n",
    "    yelp_feedback_raw[str(key)] = yelp_feedback_raw.message.str.contains(''+str(key)+'', case=False)"
   ]
  },
  {
   "cell_type": "code",
   "execution_count": 45,
   "metadata": {},
   "outputs": [
    {
     "data": {
      "text/plain": [
       "<matplotlib.axes._subplots.AxesSubplot at 0x111e44550>"
      ]
     },
     "execution_count": 45,
     "metadata": {},
     "output_type": "execute_result"
    },
    {
     "data": {
      "image/png": "[encoded data removed]",
      "text/plain": [
       "<Figure size 432x288 with 2 Axes>"
      ]
     },
     "metadata": {},
     "output_type": "display_data"
    }
   ],
   "source": [
    "sns.heatmap(yelp_feedback_raw.corr(), cmap=\"YlGnBu\")"
   ]
  },
  {
   "cell_type": "code",
   "execution_count": 76,
   "metadata": {},
   "outputs": [],
   "source": [
    "data1 = yelp_feedback_raw[keywords]\n",
    "target1 = yelp_feedback_raw['feedback']"
   ]
  },
  {
   "cell_type": "code",
   "execution_count": 80,
   "metadata": {},
   "outputs": [
    {
     "name": "stdout",
     "output_type": "stream",
     "text": [
      "Number of mislabeled points out of total 1000 points:415\n"
     ]
    }
   ],
   "source": [
    "from sklearn.naive_bayes import GaussianNB\n",
    "\n",
    "# Instantiate our model and store it in a new variable.\n",
    "bnb = GaussianNB()\n",
    "\n",
    "# Fit our model to the data.\n",
    "bnb.fit(data1, target1)\n",
    "\n",
    "# Classify, storing the result in a new variable.\n",
    "y_pred = bnb.predict(data1)\n",
    "\n",
    "# Display our results.\n",
    "\n",
    "print(\"Number of mislabeled points out of total {} points:{}\".format(data1.shape[0], (target1 != y_pred).sum()))"
   ]
  },
  {
   "cell_type": "code",
   "execution_count": 81,
   "metadata": {},
   "outputs": [],
   "source": [
    "imdb_feedback_raw = pd.read_csv('/Users/saurabh/Documents/sentimentLabelledSentences/imdb_labelled.txt', delimiter= '\\t', header=None)\n",
    "imdb_feedback_raw.columns = ['message', 'feedback']"
   ]
  },
  {
   "cell_type": "code",
   "execution_count": 10,
   "metadata": {},
   "outputs": [
    {
     "name": "stdout",
     "output_type": "stream",
     "text": [
      "                                               message  feedback\n",
      "0    A very, very, very slow-moving, aimless movie ...         0\n",
      "1    Not sure who was more lost - the flat characte...         0\n",
      "2    Attempting artiness with black & white and cle...         0\n",
      "3         Very little music or anything to speak of.           0\n",
      "4    The best scene in the movie was when Gerardo i...         1\n",
      "5    The rest of the movie lacks art, charm, meanin...         0\n",
      "6                                  Wasted two hours.           0\n",
      "7    Saw the movie today and thought it was a good ...         1\n",
      "8                                 A bit predictable.           0\n",
      "9    Loved the casting of Jimmy Buffet as the scien...         1\n",
      "10                And those baby owls were adorable.           1\n",
      "11   The movie showed a lot of Florida at it's best...         1\n",
      "12   The Songs Were The Best And The Muppets Were S...         1\n",
      "13                                   It Was So Cool.           1\n",
      "14   This is a very \"right on case\" movie that deli...         1\n",
      "15   It had some average acting from the main perso...         0\n",
      "16   This review is long overdue, since I consider ...         1\n",
      "17   I'll put this gem up against any movie in term...         1\n",
      "18   It's practically perfect in all of them  a tr...         1\n",
      "19    The structure of this film is easily the most...         0\n",
      "20   This if the first movie I've given a 10 to in ...         1\n",
      "21   If there was ever a movie that needed word-of-...         1\n",
      "22   Overall, the film is interesting and thought-p...         1\n",
      "23   Plus, it was well-paced and suited its relativ...         1\n",
      "24                             Give this one a look.           1\n",
      "25                                    I gave it a 10           1\n",
      "26   The Wind and the Lion is well written and supe...         1\n",
      "27                             It is a true classic.           1\n",
      "28   It actually turned out to be pretty decent as ...         1\n",
      "29                    Definitely worth checking out.           1\n",
      "..                                                 ...       ...\n",
      "718  Enough can not be said of the remarkable anima...         1\n",
      "719  The art style has the appearance of crayon/pen...         1\n",
      "720  If you act in such a film, you should be glad ...         0\n",
      "721  This one wants to surf on the small wave of sp...         0\n",
      "722  If you haven't choked in your own vomit by the...         0\n",
      "723  Still, it makes up for all of this with a supe...         1\n",
      "724  Just consider the excellent story, solid actin...         1\n",
      "725  Instead, we got a bore fest about a whiny, spo...         0\n",
      "726  Then I watched it again two Sundays ago (March...         1\n",
      "727       It is a very well acted and done TV Movie.           1\n",
      "728  Judith Light is one of my favorite actresses a...         1\n",
      "729                I keep watching it over and over.           1\n",
      "730                 It's a sad movie, but very good.           1\n",
      "731  If you have not seen this movie, I definitely ...         1\n",
      "732           She is as lovely as usual, this cutie!           1\n",
      "733  Still it's quite interesting and entertaining ...         1\n",
      "734                    ;) Recommend with confidence!           1\n",
      "735  This movie is well-balanced with comedy and dr...         1\n",
      "736  It was a riot to see Hugo Weaving play a sex-o...         1\n",
      "737  :) Anyway, the plot flowed smoothly and the ma...         1\n",
      "738  The opening sequence of this gem is a classic,...         1\n",
      "739             Fans of the genre will be in heaven.           1\n",
      "740                Lange had become a great actress.           1\n",
      "741                It looked like a wonderful story.           1\n",
      "742            I never walked out of a movie faster.           0\n",
      "743  I just got bored watching Jessice Lange take h...         0\n",
      "744  Unfortunately, any virtue in this film's produ...         0\n",
      "745                   In a word, it is embarrassing.           0\n",
      "746                               Exceptionally bad!           0\n",
      "747  All in all its an insult to one's intelligence...         0\n",
      "\n",
      "[748 rows x 2 columns]\n"
     ]
    }
   ],
   "source": [
    "print(imdb_feedback_raw)"
   ]
  },
  {
   "cell_type": "code",
   "execution_count": 82,
   "metadata": {},
   "outputs": [],
   "source": [
    "for key in keywords:\n",
    "    imdb_feedback_raw[str(key)] = imdb_feedback_raw.message.str.contains(''+str(key)+'', case=False)"
   ]
  },
  {
   "cell_type": "code",
   "execution_count": 83,
   "metadata": {},
   "outputs": [
    {
     "name": "stdout",
     "output_type": "stream",
     "text": [
      "                                               message  feedback   Good  \\\n",
      "0    A very, very, very slow-moving, aimless movie ...         0  False   \n",
      "1    Not sure who was more lost - the flat characte...         0  False   \n",
      "2    Attempting artiness with black & white and cle...         0  False   \n",
      "3         Very little music or anything to speak of.           0  False   \n",
      "4    The best scene in the movie was when Gerardo i...         1  False   \n",
      "5    The rest of the movie lacks art, charm, meanin...         0  False   \n",
      "6                                  Wasted two hours.           0  False   \n",
      "7    Saw the movie today and thought it was a good ...         1   True   \n",
      "8                                 A bit predictable.           0  False   \n",
      "9    Loved the casting of Jimmy Buffet as the scien...         1  False   \n",
      "10                And those baby owls were adorable.           1  False   \n",
      "11   The movie showed a lot of Florida at it's best...         1  False   \n",
      "12   The Songs Were The Best And The Muppets Were S...         1  False   \n",
      "13                                   It Was So Cool.           1  False   \n",
      "14   This is a very \"right on case\" movie that deli...         1  False   \n",
      "15   It had some average acting from the main perso...         0  False   \n",
      "16   This review is long overdue, since I consider ...         1  False   \n",
      "17   I'll put this gem up against any movie in term...         1  False   \n",
      "18   It's practically perfect in all of them  a tr...         1  False   \n",
      "19    The structure of this film is easily the most...         0   True   \n",
      "20   This if the first movie I've given a 10 to in ...         1  False   \n",
      "21   If there was ever a movie that needed word-of-...         1  False   \n",
      "22   Overall, the film is interesting and thought-p...         1  False   \n",
      "23   Plus, it was well-paced and suited its relativ...         1  False   \n",
      "24                             Give this one a look.           1  False   \n",
      "25                                    I gave it a 10           1  False   \n",
      "26   The Wind and the Lion is well written and supe...         1  False   \n",
      "27                             It is a true classic.           1  False   \n",
      "28   It actually turned out to be pretty decent as ...         1  False   \n",
      "29                    Definitely worth checking out.           1  False   \n",
      "..                                                 ...       ...    ...   \n",
      "718  Enough can not be said of the remarkable anima...         1  False   \n",
      "719  The art style has the appearance of crayon/pen...         1  False   \n",
      "720  If you act in such a film, you should be glad ...         0  False   \n",
      "721  This one wants to surf on the small wave of sp...         0  False   \n",
      "722  If you haven't choked in your own vomit by the...         0  False   \n",
      "723  Still, it makes up for all of this with a supe...         1  False   \n",
      "724  Just consider the excellent story, solid actin...         1  False   \n",
      "725  Instead, we got a bore fest about a whiny, spo...         0  False   \n",
      "726  Then I watched it again two Sundays ago (March...         1  False   \n",
      "727       It is a very well acted and done TV Movie.           1  False   \n",
      "728  Judith Light is one of my favorite actresses a...         1  False   \n",
      "729                I keep watching it over and over.           1  False   \n",
      "730                 It's a sad movie, but very good.           1   True   \n",
      "731  If you have not seen this movie, I definitely ...         1  False   \n",
      "732           She is as lovely as usual, this cutie!           1  False   \n",
      "733  Still it's quite interesting and entertaining ...         1  False   \n",
      "734                    ;) Recommend with confidence!           1  False   \n",
      "735  This movie is well-balanced with comedy and dr...         1  False   \n",
      "736  It was a riot to see Hugo Weaving play a sex-o...         1  False   \n",
      "737  :) Anyway, the plot flowed smoothly and the ma...         1  False   \n",
      "738  The opening sequence of this gem is a classic,...         1  False   \n",
      "739             Fans of the genre will be in heaven.           1  False   \n",
      "740                Lange had become a great actress.           1  False   \n",
      "741                It looked like a wonderful story.           1  False   \n",
      "742            I never walked out of a movie faster.           0  False   \n",
      "743  I just got bored watching Jessice Lange take h...         0  False   \n",
      "744  Unfortunately, any virtue in this film's produ...         0  False   \n",
      "745                   In a word, it is embarrassing.           0  False   \n",
      "746                               Exceptionally bad!           0  False   \n",
      "747  All in all its an insult to one's intelligence...         0  False   \n",
      "\n",
      "     Excellent  Great  impressed  Highly  recommend  SWEETEST   fine  Loved  \\\n",
      "0        False  False      False   False      False     False  False  False   \n",
      "1        False  False      False   False      False     False  False  False   \n",
      "2        False  False      False   False      False     False  False  False   \n",
      "3        False  False      False   False      False     False  False  False   \n",
      "4        False  False      False   False      False     False  False  False   \n",
      "5        False  False      False   False      False     False  False  False   \n",
      "6        False  False      False   False      False     False  False  False   \n",
      "7        False  False      False   False      False     False  False  False   \n",
      "8        False  False      False   False      False     False  False  False   \n",
      "9        False  False      False   False      False     False  False   True   \n",
      "10       False  False      False   False      False     False  False  False   \n",
      "11       False  False      False   False      False     False  False  False   \n",
      "12       False  False      False   False      False     False  False  False   \n",
      "13       False  False      False   False      False     False  False  False   \n",
      "14       False  False      False   False      False     False  False  False   \n",
      "15       False  False      False   False      False     False  False  False   \n",
      "16       False   True      False   False      False     False  False  False   \n",
      "17       False  False      False   False      False     False  False  False   \n",
      "18       False  False      False   False      False     False  False  False   \n",
      "19        True   True      False   False       True     False  False  False   \n",
      "20       False  False      False   False      False     False  False  False   \n",
      "21       False  False      False   False      False     False  False  False   \n",
      "22       False  False      False   False      False     False  False  False   \n",
      "23       False  False      False   False      False     False  False  False   \n",
      "24       False  False      False   False      False     False  False  False   \n",
      "25       False  False      False   False      False     False  False  False   \n",
      "26       False  False      False   False      False     False  False  False   \n",
      "27       False  False      False   False      False     False  False  False   \n",
      "28       False  False      False   False      False     False  False  False   \n",
      "29       False  False      False   False      False     False  False  False   \n",
      "..         ...    ...        ...     ...        ...       ...    ...    ...   \n",
      "718      False  False      False   False      False     False  False  False   \n",
      "719      False  False      False   False      False     False  False  False   \n",
      "720      False  False      False   False      False     False  False  False   \n",
      "721      False  False      False   False      False     False  False  False   \n",
      "722      False  False      False   False      False     False  False  False   \n",
      "723      False   True      False   False      False     False  False  False   \n",
      "724       True  False      False   False      False     False  False  False   \n",
      "725      False  False      False   False      False     False  False  False   \n",
      "726      False  False      False   False      False     False  False  False   \n",
      "727      False  False      False   False      False     False  False  False   \n",
      "728      False  False      False   False      False     False  False  False   \n",
      "729      False  False      False   False      False     False  False  False   \n",
      "730      False  False      False   False      False     False  False  False   \n",
      "731      False  False      False   False       True     False  False  False   \n",
      "732      False  False      False   False      False     False  False  False   \n",
      "733      False  False      False   False      False     False  False  False   \n",
      "734      False  False      False   False       True     False  False  False   \n",
      "735      False  False      False   False      False     False  False  False   \n",
      "736      False  False      False   False      False     False  False  False   \n",
      "737      False  False      False   False      False     False  False  False   \n",
      "738      False  False      False   False      False     False  False  False   \n",
      "739      False  False      False   False      False     False  False  False   \n",
      "740      False   True      False   False      False     False  False  False   \n",
      "741      False  False      False   False      False     False  False  False   \n",
      "742      False  False      False   False      False     False  False  False   \n",
      "743      False  False      False   False      False     False  False  False   \n",
      "744      False  False      False   False      False     False  False  False   \n",
      "745      False  False      False   False      False     False  False  False   \n",
      "746      False  False      False   False      False     False  False  False   \n",
      "747      False  False      False   False      False     False  False  False   \n",
      "\n",
      "      free  \n",
      "0    False  \n",
      "1    False  \n",
      "2    False  \n",
      "3    False  \n",
      "4    False  \n",
      "5    False  \n",
      "6    False  \n",
      "7    False  \n",
      "8    False  \n",
      "9    False  \n",
      "10   False  \n",
      "11   False  \n",
      "12   False  \n",
      "13   False  \n",
      "14   False  \n",
      "15   False  \n",
      "16   False  \n",
      "17   False  \n",
      "18   False  \n",
      "19    True  \n",
      "20   False  \n",
      "21   False  \n",
      "22   False  \n",
      "23   False  \n",
      "24   False  \n",
      "25   False  \n",
      "26   False  \n",
      "27   False  \n",
      "28   False  \n",
      "29   False  \n",
      "..     ...  \n",
      "718  False  \n",
      "719  False  \n",
      "720  False  \n",
      "721  False  \n",
      "722  False  \n",
      "723  False  \n",
      "724  False  \n",
      "725  False  \n",
      "726  False  \n",
      "727  False  \n",
      "728  False  \n",
      "729  False  \n",
      "730  False  \n",
      "731  False  \n",
      "732  False  \n",
      "733  False  \n",
      "734  False  \n",
      "735  False  \n",
      "736  False  \n",
      "737  False  \n",
      "738  False  \n",
      "739  False  \n",
      "740  False  \n",
      "741  False  \n",
      "742  False  \n",
      "743  False  \n",
      "744  False  \n",
      "745  False  \n",
      "746  False  \n",
      "747  False  \n",
      "\n",
      "[748 rows x 12 columns]\n"
     ]
    }
   ],
   "source": [
    "print(imdb_feedback_raw)"
   ]
  },
  {
   "cell_type": "code",
   "execution_count": 84,
   "metadata": {},
   "outputs": [
    {
     "data": {
      "text/plain": [
       "<matplotlib.axes._subplots.AxesSubplot at 0x11219f198>"
      ]
     },
     "execution_count": 84,
     "metadata": {},
     "output_type": "execute_result"
    },
    {
     "data": {
      "image/png": "[encoded data removed]",
      "text/plain": [
       "<Figure size 432x288 with 2 Axes>"
      ]
     },
     "metadata": {},
     "output_type": "display_data"
    }
   ],
   "source": [
    "sns.heatmap(yelp_feedback_raw.corr(), cmap=\"YlGnBu\")"
   ]
  },
  {
   "cell_type": "code",
   "execution_count": 86,
   "metadata": {},
   "outputs": [],
   "source": [
    "data2 = imdb_feedback_raw[keywords]\n",
    "target2 = imdb_feedback_raw['feedback']"
   ]
  },
  {
   "cell_type": "code",
   "execution_count": 91,
   "metadata": {},
   "outputs": [
    {
     "name": "stdout",
     "output_type": "stream",
     "text": [
      "Number of mislabeled points out of total 748 points:325\n"
     ]
    }
   ],
   "source": [
    "from sklearn.naive_bayes import BernoulliNB\n",
    "\n",
    "# Instantiate our model and store it in a new variable.\n",
    "bnb = BernoulliNB()\n",
    "\n",
    "# Fit our model to the data.\n",
    "bnb.fit(data2, target2)\n",
    "\n",
    "# Classify, storing the result in a new variable.\n",
    "y_pred = bnb.predict(data2)\n",
    "\n",
    "# Display our results.\n",
    "\n",
    "print(\"Number of mislabeled points out of total {} points:{}\".format(data2.shape[0], (target2 != y_pred).sum()))"
   ]
  },
  {
   "cell_type": "code",
   "execution_count": null,
   "metadata": {},
   "outputs": [],
   "source": []
  }
 ],
 "metadata": {
  "kernelspec": {
   "display_name": "Python 3",
   "language": "python",
   "name": "python3"
  },
  "language_info": {
   "codemirror_mode": {
    "name": "ipython",
    "version": 3
   },
   "file_extension": ".py",
   "mimetype": "text/x-python",
   "name": "python",
   "nbconvert_exporter": "python",
   "pygments_lexer": "ipython3",
   "version": "3.6.5"
  }
 },
 "nbformat": 4,
 "nbformat_minor": 2
}
