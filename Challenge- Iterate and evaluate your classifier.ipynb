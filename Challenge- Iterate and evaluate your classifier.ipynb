{
 "cells": [
  {
   "cell_type": "code",
   "execution_count": 2,
   "metadata": {},
   "outputs": [],
   "source": [
    "%matplotlib inline\n",
    "import numpy as np\n",
    "import pandas as pd\n",
    "import scipy\n",
    "import sklearn\n",
    "import matplotlib.pyplot as plt\n",
    "import seaborn as sns"
   ]
  },
  {
   "cell_type": "markdown",
   "metadata": {},
   "source": [
    "# Loading Data"
   ]
  },
  {
   "cell_type": "code",
   "execution_count": 150,
   "metadata": {},
   "outputs": [
    {
     "name": "stdout",
     "output_type": "stream",
     "text": [
      "                                               message  feedback\n",
      "0    So there is no way for me to plug it in here i...         0\n",
      "1                          Good case, Excellent value.         1\n",
      "2                               Great for the jawbone.         1\n",
      "3    Tied to charger for conversations lasting more...         0\n",
      "4                                    The mic is great.         1\n",
      "5    I have to jiggle the plug to get it to line up...         0\n",
      "6    If you have several dozen or several hundred c...         0\n",
      "7          If you are Razr owner...you must have this!         1\n",
      "8                  Needless to say, I wasted my money.         0\n",
      "9                     What a waste of money and time!.         0\n",
      "10                     And the sound quality is great.         1\n",
      "11   He was very impressed when going from the orig...         1\n",
      "12   If the two were seperated by a mere 5+ ft I st...         0\n",
      "13                            Very good quality though         1\n",
      "14   The design is very odd, as the ear \"clip\" is n...         0\n",
      "15   Highly recommend for any one who has a blue to...         1\n",
      "16                 I advise EVERYONE DO NOT BE FOOLED!         0\n",
      "17                                    So Far So Good!.         1\n",
      "18                                       Works great!.         1\n",
      "19   It clicks into place in a way that makes you w...         0\n",
      "20   I went on Motorola's website and followed all ...         0\n",
      "21   I bought this to use with my Kindle Fire and a...         1\n",
      "22            The commercials are the most misleading.         0\n",
      "23   I have yet to run this new battery below two b...         1\n",
      "24   I bought it for my mother and she had a proble...         0\n",
      "25                Great Pocket PC / phone combination.         1\n",
      "26   I've owned this phone for 7 months now and can...         1\n",
      "27   I didn't think that the instructions provided ...         0\n",
      "28   People couldnt hear me talk and I had to pull ...         0\n",
      "29                                Doesn't hold charge.         0\n",
      "..                                                 ...       ...\n",
      "970  I plugged it in only to find out not a darn th...         0\n",
      "971                                 Excellent product.         1\n",
      "972                        Earbud piece breaks easily.         0\n",
      "973                                     Lousy product.         0\n",
      "974  This phone tries very hard to do everything bu...         0\n",
      "975  It is the best charger I have seen on the mark...         1\n",
      "976                                  SWEETEST PHONE!!!         1\n",
      "977             :-)Oh, the charger seems to work fine.         1\n",
      "978  It fits so securely that the ear hook does not...         1\n",
      "979                                 Not enough volume.         0\n",
      "980                Echo Problem....Very unsatisfactory         0\n",
      "981  you could only take 2 videos at a time and the...         0\n",
      "982                            don't waste your money.         0\n",
      "983  I am going to have to be the first to negative...         0\n",
      "984  Adapter does not provide enough charging current.         0\n",
      "985  There was so much hype over this phone that I ...         0\n",
      "986  You also cannot take pictures with it in the c...         0\n",
      "987                            Phone falls out easily.         0\n",
      "988  It didn't work, people can not hear me when I ...         0\n",
      "989  The text messaging feature is really tricky to...         0\n",
      "990  I'm really disappointed all I have now is a ch...         0\n",
      "991                                Painful on the ear.         0\n",
      "992                   Lasted one day and then blew up.         0\n",
      "993                                      disappointed.         0\n",
      "994                              Kind of flops around.         0\n",
      "995  The screen does get smudged easily because it ...         0\n",
      "996  What a piece of junk.. I lose more calls on th...         0\n",
      "997                       Item Does Not Match Picture.         0\n",
      "998  The only thing that disappoint me is the infra...         0\n",
      "999  You can not answer calls with the unit, never ...         0\n",
      "\n",
      "[1000 rows x 2 columns]\n"
     ]
    }
   ],
   "source": [
    "amazon_feedback_raw = pd.read_csv(\"/Users/saurabh/Documents/sentimentLabelledSentences/amazon_cells_labelled.txt\", delimiter= '\\t', header=None)\n",
    "amazon_feedback_raw.columns = ['message', 'feedback']\n",
    "amazon_feedback_temp = amazon_feedback_raw\n",
    "print(amazon_feedback_raw.head(2000))"
   ]
  },
  {
   "cell_type": "markdown",
   "metadata": {},
   "source": [
    "At the most obvious level, a feature from the message can be whether it contains a given word. Let's add those columns to our dataframe. The words chosen below are simply intuited as possibly having something to do with positive feedback. "
   ]
  },
  {
   "cell_type": "code",
   "execution_count": 132,
   "metadata": {},
   "outputs": [],
   "source": [
    "keywords = ['Good', 'Excellent', 'Great', 'impressed', 'Highly', 'recommend', 'SWEETEST', 'fine', 'Loved', 'free']\n",
    "\n",
    "for key in keywords:\n",
    "    amazon_feedback_raw[str(key)] = amazon_feedback_raw.message.str.contains(''+str(key)+'', case=False)\n",
    "\n",
    "#print(feedback_raw)"
   ]
  },
  {
   "cell_type": "code",
   "execution_count": 133,
   "metadata": {},
   "outputs": [
    {
     "data": {
      "text/plain": [
       "<matplotlib.axes._subplots.AxesSubplot at 0x10ebfe7b8>"
      ]
     },
     "execution_count": 133,
     "metadata": {},
     "output_type": "execute_result"
    },
    {
     "data": {
      "image/png": "[encoded data removed]",
      "text/plain": [
       "<Figure size 432x288 with 2 Axes>"
      ]
     },
     "metadata": {},
     "output_type": "display_data"
    }
   ],
   "source": [
    "sns.heatmap(amazon_feedback_raw.corr(), cmap=\"YlGnBu\")"
   ]
  },
  {
   "cell_type": "markdown",
   "metadata": {},
   "source": [
    "That is actually a great looking plot for us. Most of the words show strong independence from each other. The only exceptions are highly:recommend and great:feedback. For now, let's keep everything in the dataset."
   ]
  },
  {
   "cell_type": "code",
   "execution_count": 134,
   "metadata": {},
   "outputs": [],
   "source": [
    "data = amazon_feedback_raw[keywords]\n",
    "target = amazon_feedback_raw['feedback']"
   ]
  },
  {
   "cell_type": "code",
   "execution_count": 135,
   "metadata": {},
   "outputs": [
    {
     "name": "stdout",
     "output_type": "stream",
     "text": [
      "Number of mislabeled points out of total 1000 points:364\n"
     ]
    }
   ],
   "source": [
    "from sklearn.naive_bayes import GaussianNB\n",
    "\n",
    "# Instantiate our model and store it in a new variable.\n",
    "bnb = GaussianNB()\n",
    "\n",
    "# Fit our model to the data.\n",
    "bnb.fit(data, target)\n",
    "\n",
    "# Classify, storing the result in a new variable.\n",
    "y_pred = bnb.predict(data)\n",
    "\n",
    "# Display our results.\n",
    "\n",
    "print(\"Number of mislabeled points out of total {} points:{}\".format(data.shape[0], (target != y_pred).sum()))\n"
   ]
  },
  {
   "cell_type": "markdown",
   "metadata": {},
   "source": [
    "After adding new keywords like 'very impressed','no problems' does not affect result but keywords like  'love', 'happy','wise', 'WORTHWHILE' reduced the result while keywords like 'like' improved the result specially has impact on performance"
   ]
  },
  {
   "cell_type": "code",
   "execution_count": 48,
   "metadata": {},
   "outputs": [
    {
     "name": "stdout",
     "output_type": "stream",
     "text": [
      "With 20% Holdout: 0.605\n",
      "Testing on Sample: 0.636\n"
     ]
    }
   ],
   "source": [
    "# Test your model with different holdout groups.\n",
    "\n",
    "from sklearn.model_selection import train_test_split\n",
    "# Use train_test_split to create the necessary training and test groups\n",
    "X_train, X_test, y_train, y_test = train_test_split(data, target, test_size=0.2, random_state=20)\n",
    "print('With 20% Holdout: ' + str(bnb.fit(X_train, y_train).score(X_test, y_test)))\n",
    "print('Testing on Sample: ' + str(bnb.fit(data, target).score(data, target)))"
   ]
  },
  {
   "cell_type": "markdown",
   "metadata": {},
   "source": [
    "These scores look really consistent! It doesn't seem like our model is overfitting. "
   ]
  },
  {
   "cell_type": "code",
   "execution_count": 49,
   "metadata": {},
   "outputs": [
    {
     "data": {
      "text/plain": [
       "array([0.69, 0.66, 0.62, 0.64, 0.65, 0.6 , 0.63, 0.62, 0.63, 0.58])"
      ]
     },
     "execution_count": 49,
     "metadata": {},
     "output_type": "execute_result"
    }
   ],
   "source": [
    "from sklearn.model_selection import cross_val_score\n",
    "cross_val_score(bnb, data, target, cv=10)"
   ]
  },
  {
   "cell_type": "markdown",
   "metadata": {},
   "source": [
    "That's exactly what we'd hope to see. The array that cross_val_score returns is a series of accuracy scores with a different hold out group each time. If our model is overfitting at a variable amount, those scores will fluctuate. Instead, ours are relatively consistent."
   ]
  },
  {
   "cell_type": "code",
   "execution_count": 151,
   "metadata": {},
   "outputs": [],
   "source": [
    "keywords = ['Good', 'impressed', 'Highly', 'recommend', 'SWEETEST', 'fine', 'Loved', 'free', 'good quality']\n",
    "\n",
    "for key in keywords:\n",
    "    amazon_feedback_temp[str(key)] = amazon_feedback_temp.message.str.contains(''+str(key)+'', case=False)\n",
    "\n",
    "#print(feedback_raw)"
   ]
  },
  {
   "cell_type": "code",
   "execution_count": 152,
   "metadata": {},
   "outputs": [
    {
     "data": {
      "text/plain": [
       "<matplotlib.axes._subplots.AxesSubplot at 0x1172814e0>"
      ]
     },
     "execution_count": 152,
     "metadata": {},
     "output_type": "execute_result"
    },
    {
     "data": {
      "image/png": "[encoded data removed]",
      "text/plain": [
       "<Figure size 432x288 with 2 Axes>"
      ]
     },
     "metadata": {},
     "output_type": "display_data"
    }
   ],
   "source": [
    "sns.heatmap(amazon_feedback_temp.corr(), cmap=\"YlGnBu\")"
   ]
  },
  {
   "cell_type": "code",
   "execution_count": 153,
   "metadata": {},
   "outputs": [],
   "source": [
    "data1 = amazon_feedback_temp[keywords]\n",
    "target1 = amazon_feedback_temp['feedback']"
   ]
  },
  {
   "cell_type": "code",
   "execution_count": 154,
   "metadata": {},
   "outputs": [
    {
     "name": "stdout",
     "output_type": "stream",
     "text": [
      "Number of mislabeled points out of total 1000 points:461\n"
     ]
    }
   ],
   "source": [
    "from sklearn.naive_bayes import GaussianNB\n",
    "\n",
    "# Instantiate our model and store it in a new variable.\n",
    "bnb = GaussianNB()\n",
    "\n",
    "# Fit our model to the data.\n",
    "bnb.fit(data1, target1)\n",
    "\n",
    "# Classify, storing the result in a new variable.\n",
    "y_pred = bnb.predict(data1)\n",
    "\n",
    "# Display our results.\n",
    "\n",
    "print(\"Number of mislabeled points out of total {} points:{}\".format(data1.shape[0], (target1 != y_pred).sum()))\n",
    "\n"
   ]
  },
  {
   "cell_type": "code",
   "execution_count": 155,
   "metadata": {},
   "outputs": [
    {
     "name": "stdout",
     "output_type": "stream",
     "text": [
      "With 20% Holdout: 0.515\n",
      "Testing on Sample: 0.539\n"
     ]
    }
   ],
   "source": [
    "# Test your model with different holdout groups.\n",
    "\n",
    "from sklearn.model_selection import train_test_split\n",
    "# Use train_test_split to create the necessary training and test groups\n",
    "X_train, X_test, y_train, y_test = train_test_split(data1, target1, test_size=0.2, random_state=20)\n",
    "print('With 20% Holdout: ' + str(bnb.fit(X_train, y_train).score(X_test, y_test)))\n",
    "print('Testing on Sample: ' + str(bnb.fit(data1, target1).score(data1, target1)))"
   ]
  },
  {
   "cell_type": "code",
   "execution_count": 156,
   "metadata": {},
   "outputs": [
    {
     "data": {
      "text/plain": [
       "array([0.69, 0.66, 0.62, 0.64, 0.65, 0.6 , 0.63, 0.62, 0.63, 0.58])"
      ]
     },
     "execution_count": 156,
     "metadata": {},
     "output_type": "execute_result"
    }
   ],
   "source": [
    "from sklearn.model_selection import cross_val_score\n",
    "cross_val_score(bnb, data, target, cv=10)"
   ]
  },
  {
   "cell_type": "markdown",
   "metadata": {},
   "source": [
    "if we remove  'Great','Excellent' two features that has most impact on performance"
   ]
  },
  {
   "cell_type": "code",
   "execution_count": null,
   "metadata": {},
   "outputs": [],
   "source": []
  }
 ],
 "metadata": {
  "kernelspec": {
   "display_name": "Python 3",
   "language": "python",
   "name": "python3"
  },
  "language_info": {
   "codemirror_mode": {
    "name": "ipython",
    "version": 3
   },
   "file_extension": ".py",
   "mimetype": "text/x-python",
   "name": "python",
   "nbconvert_exporter": "python",
   "pygments_lexer": "ipython3",
   "version": "3.6.5"
  }
 },
 "nbformat": 4,
 "nbformat_minor": 2
}
