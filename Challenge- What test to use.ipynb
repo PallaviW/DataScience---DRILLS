{
 "cells": [
  {
   "cell_type": "code",
   "execution_count": 52,
   "metadata": {},
   "outputs": [],
   "source": [
    "import pandas as pd\n",
    "import numpy as np\n",
    "import matplotlib.pyplot as plt\n",
    "import seaborn as sns\n",
    "\n",
    "import scipy.stats as stats\n",
    "from statsmodels.stats.multicomp import pairwise_tukeyhsd\n",
    "%matplotlib inline"
   ]
  },
  {
   "cell_type": "code",
   "execution_count": 53,
   "metadata": {},
   "outputs": [],
   "source": [
    "df = pd.read_csv('/Users/saurabh/Documents/PythonData/ESSdata_Thinkful.csv')"
   ]
  },
  {
   "cell_type": "code",
   "execution_count": 54,
   "metadata": {},
   "outputs": [
    {
     "data": {
      "text/html": [
       "<div>\n",
       "<style scoped>\n",
       "    .dataframe tbody tr th:only-of-type {\n",
       "        vertical-align: middle;\n",
       "    }\n",
       "\n",
       "    .dataframe tbody tr th {\n",
       "        vertical-align: top;\n",
       "    }\n",
       "\n",
       "    .dataframe thead th {\n",
       "        text-align: right;\n",
       "    }\n",
       "</style>\n",
       "<table border=\"1\" class=\"dataframe\">\n",
       "  <thead>\n",
       "    <tr style=\"text-align: right;\">\n",
       "      <th></th>\n",
       "      <th>cntry</th>\n",
       "      <th>idno</th>\n",
       "      <th>year</th>\n",
       "      <th>tvtot</th>\n",
       "      <th>ppltrst</th>\n",
       "      <th>pplfair</th>\n",
       "      <th>pplhlp</th>\n",
       "      <th>happy</th>\n",
       "      <th>sclmeet</th>\n",
       "      <th>sclact</th>\n",
       "      <th>gndr</th>\n",
       "      <th>agea</th>\n",
       "      <th>partner</th>\n",
       "    </tr>\n",
       "  </thead>\n",
       "  <tbody>\n",
       "    <tr>\n",
       "      <th>0</th>\n",
       "      <td>CH</td>\n",
       "      <td>5.0</td>\n",
       "      <td>6</td>\n",
       "      <td>3.0</td>\n",
       "      <td>3.0</td>\n",
       "      <td>10.0</td>\n",
       "      <td>5.0</td>\n",
       "      <td>8.0</td>\n",
       "      <td>5.0</td>\n",
       "      <td>4.0</td>\n",
       "      <td>2.0</td>\n",
       "      <td>60.0</td>\n",
       "      <td>1.0</td>\n",
       "    </tr>\n",
       "    <tr>\n",
       "      <th>1</th>\n",
       "      <td>CH</td>\n",
       "      <td>25.0</td>\n",
       "      <td>6</td>\n",
       "      <td>6.0</td>\n",
       "      <td>5.0</td>\n",
       "      <td>7.0</td>\n",
       "      <td>5.0</td>\n",
       "      <td>9.0</td>\n",
       "      <td>3.0</td>\n",
       "      <td>2.0</td>\n",
       "      <td>2.0</td>\n",
       "      <td>59.0</td>\n",
       "      <td>1.0</td>\n",
       "    </tr>\n",
       "    <tr>\n",
       "      <th>2</th>\n",
       "      <td>CH</td>\n",
       "      <td>26.0</td>\n",
       "      <td>6</td>\n",
       "      <td>1.0</td>\n",
       "      <td>8.0</td>\n",
       "      <td>8.0</td>\n",
       "      <td>8.0</td>\n",
       "      <td>7.0</td>\n",
       "      <td>6.0</td>\n",
       "      <td>3.0</td>\n",
       "      <td>1.0</td>\n",
       "      <td>24.0</td>\n",
       "      <td>2.0</td>\n",
       "    </tr>\n",
       "    <tr>\n",
       "      <th>3</th>\n",
       "      <td>CH</td>\n",
       "      <td>28.0</td>\n",
       "      <td>6</td>\n",
       "      <td>4.0</td>\n",
       "      <td>6.0</td>\n",
       "      <td>6.0</td>\n",
       "      <td>7.0</td>\n",
       "      <td>10.0</td>\n",
       "      <td>6.0</td>\n",
       "      <td>2.0</td>\n",
       "      <td>2.0</td>\n",
       "      <td>64.0</td>\n",
       "      <td>1.0</td>\n",
       "    </tr>\n",
       "    <tr>\n",
       "      <th>4</th>\n",
       "      <td>CH</td>\n",
       "      <td>29.0</td>\n",
       "      <td>6</td>\n",
       "      <td>5.0</td>\n",
       "      <td>6.0</td>\n",
       "      <td>7.0</td>\n",
       "      <td>5.0</td>\n",
       "      <td>8.0</td>\n",
       "      <td>7.0</td>\n",
       "      <td>2.0</td>\n",
       "      <td>2.0</td>\n",
       "      <td>55.0</td>\n",
       "      <td>1.0</td>\n",
       "    </tr>\n",
       "  </tbody>\n",
       "</table>\n",
       "</div>"
      ],
      "text/plain": [
       "  cntry  idno  year  tvtot  ppltrst  pplfair  pplhlp  happy  sclmeet  sclact  \\\n",
       "0    CH   5.0     6    3.0      3.0     10.0     5.0    8.0      5.0     4.0   \n",
       "1    CH  25.0     6    6.0      5.0      7.0     5.0    9.0      3.0     2.0   \n",
       "2    CH  26.0     6    1.0      8.0      8.0     8.0    7.0      6.0     3.0   \n",
       "3    CH  28.0     6    4.0      6.0      6.0     7.0   10.0      6.0     2.0   \n",
       "4    CH  29.0     6    5.0      6.0      7.0     5.0    8.0      7.0     2.0   \n",
       "\n",
       "   gndr  agea  partner  \n",
       "0   2.0  60.0      1.0  \n",
       "1   2.0  59.0      1.0  \n",
       "2   1.0  24.0      2.0  \n",
       "3   2.0  64.0      1.0  \n",
       "4   2.0  55.0      1.0  "
      ]
     },
     "execution_count": 54,
     "metadata": {},
     "output_type": "execute_result"
    }
   ],
   "source": [
    "df.head()"
   ]
  },
  {
   "cell_type": "code",
   "execution_count": 8,
   "metadata": {},
   "outputs": [
    {
     "name": "stdout",
     "output_type": "stream",
     "text": [
      "<class 'pandas.core.frame.DataFrame'>\n",
      "RangeIndex: 8594 entries, 0 to 8593\n",
      "Data columns (total 13 columns):\n",
      "cntry      8594 non-null object\n",
      "idno       8594 non-null float64\n",
      "year       8594 non-null int64\n",
      "tvtot      8586 non-null float64\n",
      "ppltrst    8580 non-null float64\n",
      "pplfair    8555 non-null float64\n",
      "pplhlp     8569 non-null float64\n",
      "happy      8563 non-null float64\n",
      "sclmeet    8579 non-null float64\n",
      "sclact     8500 non-null float64\n",
      "gndr       8584 non-null float64\n",
      "agea       8355 non-null float64\n",
      "partner    8577 non-null float64\n",
      "dtypes: float64(11), int64(1), object(1)\n",
      "memory usage: 872.9+ KB\n"
     ]
    }
   ],
   "source": [
    "df.info()"
   ]
  },
  {
   "cell_type": "code",
   "execution_count": 9,
   "metadata": {},
   "outputs": [
    {
     "data": {
      "text/plain": [
       "Index(['cntry', 'idno', 'year', 'tvtot', 'ppltrst', 'pplfair', 'pplhlp',\n",
       "       'happy', 'sclmeet', 'sclact', 'gndr', 'agea', 'partner'],\n",
       "      dtype='object')"
      ]
     },
     "execution_count": 9,
     "metadata": {},
     "output_type": "execute_result"
    }
   ],
   "source": [
    "df.columns"
   ]
  },
  {
   "cell_type": "code",
   "execution_count": 105,
   "metadata": {},
   "outputs": [],
   "source": [
    "df = df.dropna()"
   ]
  },
  {
   "cell_type": "code",
   "execution_count": 106,
   "metadata": {},
   "outputs": [
    {
     "name": "stdout",
     "output_type": "stream",
     "text": [
      "<class 'pandas.core.frame.DataFrame'>\n",
      "Int64Index: 8147 entries, 0 to 8593\n",
      "Data columns (total 13 columns):\n",
      "cntry      8147 non-null object\n",
      "idno       8147 non-null float64\n",
      "year       8147 non-null int64\n",
      "tvtot      8147 non-null float64\n",
      "ppltrst    8147 non-null float64\n",
      "pplfair    8147 non-null float64\n",
      "pplhlp     8147 non-null float64\n",
      "happy      8147 non-null float64\n",
      "sclmeet    8147 non-null float64\n",
      "sclact     8147 non-null float64\n",
      "gndr       8147 non-null float64\n",
      "agea       8147 non-null float64\n",
      "partner    8147 non-null float64\n",
      "dtypes: float64(11), int64(1), object(1)\n",
      "memory usage: 891.1+ KB\n"
     ]
    }
   ],
   "source": [
    "df.info()"
   ]
  },
  {
   "cell_type": "markdown",
   "metadata": {},
   "source": [
    "## Did people become less trusting from 2012 to 2014? Compute results for each country in the sample."
   ]
  },
  {
   "cell_type": "code",
   "execution_count": 118,
   "metadata": {},
   "outputs": [
    {
     "data": {
      "image/png": "[encoded data removed]",
      "text/plain": [
       "<Figure size 1080x360 with 2 Axes>"
      ]
     },
     "metadata": {
      "needs_background": "light"
     },
     "output_type": "display_data"
    }
   ],
   "source": [
    "plt.figure(figsize=(15, 5))\n",
    "\n",
    "plt.subplot(121)\n",
    "plt.hist(df[(df['cntry'] == 'CH') & (df['year'] == 6)]['ppltrst'])\n",
    "plt.title('Total people trusting in 2012')\n",
    "plt.xlabel('ppltrust')\n",
    "\n",
    "plt.subplot(122)\n",
    "plt.hist(df[(df['cntry'] == 'CH') & (df['year'] == 7)]['ppltrst'])\n",
    "plt.title('Total people trusting in 2014')\n",
    "plt.xlabel('ppltrust')\n",
    "\n",
    "plt.show()"
   ]
  },
  {
   "cell_type": "code",
   "execution_count": 159,
   "metadata": {},
   "outputs": [
    {
     "name": "stdout",
     "output_type": "stream",
     "text": [
      "CH : Ttest_indResult(statistic=-0.7156974792217816, pvalue=0.4742916002909491)\n",
      "CZ : Ttest_indResult(statistic=0.34075433231518504, pvalue=0.7333479315909976)\n",
      "DE : Ttest_indResult(statistic=-0.3466213170125284, pvalue=0.7317764273785732)\n",
      "ES : Ttest_indResult(statistic=2.1000674443244907, pvalue=0.03583204193521363)\n",
      "NO : Ttest_indResult(statistic=0.5119224181145228, pvalue=0.6087850218131978)\n",
      "SE : Ttest_indResult(statistic=-2.0268698056063146, pvalue=0.0428293634522298)\n"
     ]
    }
   ],
   "source": [
    "for country in df.cntry.unique():\n",
    "    print(country, ':', stats.ttest_ind(df[(df['cntry'] == country) & (df['year'] == 6)]['ppltrst'], \n",
    "                      df[(df['cntry'] == country) & (df['year'] == 7)]['ppltrst']))"
   ]
  },
  {
   "cell_type": "markdown",
   "metadata": {},
   "source": [
    "As pvalue for Spain and Sweden are statistically significant so people from these countries became less trusting from 2012 to 2014. while for the other countries they are not statistically significant so can not say people from those countries became less trusting from 2012 to 2014"
   ]
  },
  {
   "cell_type": "markdown",
   "metadata": {},
   "source": [
    "## Did people become happier from 2012 to 2014? Compute results for each country in the sample"
   ]
  },
  {
   "cell_type": "code",
   "execution_count": 124,
   "metadata": {},
   "outputs": [
    {
     "data": {
      "image/png": "[encoded data removed]",
      "text/plain": [
       "<Figure size 1080x360 with 2 Axes>"
      ]
     },
     "metadata": {
      "needs_background": "light"
     },
     "output_type": "display_data"
    }
   ],
   "source": [
    "plt.figure(figsize=(15, 5))\n",
    "\n",
    "plt.subplot(121)\n",
    "plt.hist(df[(df['cntry'] == 'CH') & (df['year'] == 6)]['happy'])\n",
    "plt.title('Total people happy in 2012')\n",
    "plt.xlabel('happy')\n",
    "\n",
    "plt.subplot(122)\n",
    "plt.hist(df[(df['cntry'] == 'CH') & (df['year'] == 7)]['happy'])\n",
    "plt.title('Total people happy in 2014')\n",
    "plt.xlabel('happy')\n",
    "\n",
    "plt.show()"
   ]
  },
  {
   "cell_type": "code",
   "execution_count": 160,
   "metadata": {},
   "outputs": [
    {
     "name": "stdout",
     "output_type": "stream",
     "text": [
      "CH : KruskalResult(statistic=0.7393607796289999, pvalue=0.3898657201494511)\n",
      "CZ : KruskalResult(statistic=0.7888702806828175, pvalue=0.37444194652901)\n",
      "DE : KruskalResult(statistic=0.7954545454545382, pvalue=0.3724558699813717)\n",
      "ES : KruskalResult(statistic=2.9615793608595036, pvalue=0.08526461865591295)\n",
      "NO : KruskalResult(statistic=17.78863118177249, pvalue=2.4685385809958533e-05)\n",
      "SE : KruskalResult(statistic=0.10011450993142058, pvalue=0.7516922609168144)\n"
     ]
    }
   ],
   "source": [
    "for country in df.cntry.unique():\n",
    "    print(country, ':', stats.kruskal(df[(df['cntry'] == country) & (df['year'] == 6)]['happy'],\n",
    "   df[(df['cntry'] == country) & (df['year'] == 7)]['happy']))"
   ]
  },
  {
   "cell_type": "markdown",
   "metadata": {},
   "source": [
    "As pvalue for Spain is statistically significant so people from Spain became happier from 2012 to 2014."
   ]
  },
  {
   "cell_type": "markdown",
   "metadata": {},
   "source": [
    "## Who reported watching more TV in 2012, men or women?"
   ]
  },
  {
   "cell_type": "code",
   "execution_count": 125,
   "metadata": {},
   "outputs": [
    {
     "data": {
      "image/png": "[encoded data removed]",
      "text/plain": [
       "<Figure size 1080x360 with 2 Axes>"
      ]
     },
     "metadata": {
      "needs_background": "light"
     },
     "output_type": "display_data"
    }
   ],
   "source": [
    "plt.figure(figsize=(15, 5))\n",
    "\n",
    "plt.subplot(121)\n",
    "plt.hist(df[(df['gndr'] == 1) & (df['year'] == 6)]['tvtot'])\n",
    "plt.title('Total people watching tv in 2012')\n",
    "plt.xlabel('tvtot')\n",
    "\n",
    "plt.subplot(122)\n",
    "plt.hist(df[(df['gndr'] == 2) & (df['year'] == 6)]['tvtot'])\n",
    "plt.title('Total people watching tv in 2014')\n",
    "plt.xlabel('tvtot')\n",
    "\n",
    "plt.show()"
   ]
  },
  {
   "cell_type": "code",
   "execution_count": 126,
   "metadata": {},
   "outputs": [
    {
     "data": {
      "text/plain": [
       "KruskalResult(statistic=0.6145695087428265, pvalue=0.4330724786171142)"
      ]
     },
     "execution_count": 126,
     "metadata": {},
     "output_type": "execute_result"
    }
   ],
   "source": [
    "stats.kruskal(\n",
    "    df[(df['gndr'] == 1) & (df['year'] == 6)]['tvtot'],\n",
    "    df[(df['gndr'] == 2) & (df['year'] == 6)]['tvtot'])"
   ]
  },
  {
   "cell_type": "markdown",
   "metadata": {},
   "source": [
    "As pvalue is > 0.05 which leads to conclusion that two samples are most likely similar so can not say who reported watching more TV in 2012, men or women"
   ]
  },
  {
   "cell_type": "markdown",
   "metadata": {},
   "source": [
    "## Who was more likely to believe people were fair in 2012, people living with a partner or people living alone?"
   ]
  },
  {
   "cell_type": "code",
   "execution_count": 127,
   "metadata": {},
   "outputs": [
    {
     "data": {
      "image/png": "[encoded data removed]",
      "text/plain": [
       "<Figure size 1080x360 with 2 Axes>"
      ]
     },
     "metadata": {
      "needs_background": "light"
     },
     "output_type": "display_data"
    }
   ],
   "source": [
    "plt.figure(figsize=(15, 5))\n",
    "\n",
    "plt.subplot(121)\n",
    "plt.hist(df[(df['partner'] == 1)]['pplfair'])\n",
    "plt.title('Total people leaving with partner in 2012')\n",
    "plt.xlabel('tvtot')\n",
    "\n",
    "plt.subplot(122)\n",
    "plt.hist(df[(df['partner'] == 2)]['pplfair'])\n",
    "plt.title('Total people leaving without partner in 2012')\n",
    "plt.xlabel('tvtot')\n",
    "\n",
    "plt.show()"
   ]
  },
  {
   "cell_type": "code",
   "execution_count": 128,
   "metadata": {},
   "outputs": [
    {
     "data": {
      "text/plain": [
       "KruskalResult(statistic=12.699905564964231, pvalue=0.0003656740421476776)"
      ]
     },
     "execution_count": 128,
     "metadata": {},
     "output_type": "execute_result"
    }
   ],
   "source": [
    "stats.kruskal(df[(df['partner'] == 1)]['pplfair'] , df[(df['partner'] == 2)]['pplfair'])"
   ]
  },
  {
   "cell_type": "markdown",
   "metadata": {},
   "source": [
    "As pvalue is < 0.05 which leads to conclusion that two samples are statistically significant so can say that people  living with a partner were fair than without partner in 2012"
   ]
  },
  {
   "cell_type": "markdown",
   "metadata": {},
   "source": [
    "## Pick three or four of the countries in the sample and compare how often people met socially in 2014. Are there differences, and if so, which countries stand out?"
   ]
  },
  {
   "cell_type": "code",
   "execution_count": 136,
   "metadata": {},
   "outputs": [
    {
     "data": {
      "image/png": "[encoded data removed]",
      "text/plain": [
       "<Figure size 1440x432 with 3 Axes>"
      ]
     },
     "metadata": {
      "needs_background": "light"
     },
     "output_type": "display_data"
    }
   ],
   "source": [
    "plt.figure(figsize=(20, 6))\n",
    "\n",
    "plt.subplot(131)\n",
    "plt.hist(df[(df['year'] == 7) & (df['cntry'] == 'CH')]['sclmeet'])\n",
    "plt.title('Total people met socially in 2014')\n",
    "plt.xlabel('sclmeet')\n",
    "\n",
    "plt.subplot(132)\n",
    "plt.hist(df[(df['year'] == 7) & (df['cntry'] == 'DE')]['sclmeet'])\n",
    "plt.title('Total people met socially in 2014')\n",
    "plt.xlabel('sclmeet')\n",
    "\n",
    "plt.subplot(133)\n",
    "plt.hist(df[(df['year'] == 7) & (df['cntry'] == 'ES')]['sclmeet'])\n",
    "plt.title('Total people met socially in 2014')\n",
    "plt.xlabel('sclmeet')\n",
    "\n",
    "plt.show()"
   ]
  },
  {
   "cell_type": "code",
   "execution_count": 137,
   "metadata": {},
   "outputs": [
    {
     "data": {
      "text/plain": [
       "KruskalResult(statistic=12.398774136896987, pvalue=0.0020306749196556226)"
      ]
     },
     "execution_count": 137,
     "metadata": {},
     "output_type": "execute_result"
    }
   ],
   "source": [
    "stats.kruskal(df[(df['year'] == 7) & (df['cntry'] == 'CH')]['sclmeet'], \n",
    "              df[(df['year'] == 7) & (df['cntry'] == 'DE')]['sclmeet'],\n",
    "              df[(df['year'] == 7) & (df['cntry'] == 'ES')]['sclmeet'])"
   ]
  },
  {
   "cell_type": "markdown",
   "metadata": {},
   "source": [
    "The above analysis shows pvalue is less than 5% so there are statistically significant differences between all three countries"
   ]
  },
  {
   "cell_type": "code",
   "execution_count": 144,
   "metadata": {},
   "outputs": [
    {
     "name": "stdout",
     "output_type": "stream",
     "text": [
      "Mean Score social activities in Switzerland(CH) :  5.174966352624495\n",
      "Mean Score social activities in Germany(DE) :  4.428571428571429\n",
      "Mean Score social activities in Spain(ES) :  5.263668430335097\n",
      "3.251979328884365\n",
      "0.038914404595927585\n"
     ]
    }
   ],
   "source": [
    "# Printing the means for each group.\n",
    "print('Mean Score social activities in Switzerland(CH) : ', df[(df['year'] == 7) & (df['cntry'] == 'CH')]['sclmeet'].mean())\n",
    "print('Mean Score social activities in Germany(DE) : ', df[(df['year'] == 7) & (df['cntry'] == 'DE')]['sclmeet'].mean())\n",
    "print('Mean Score social activities in Spain(ES) : ', df[(df['year'] == 7) & (df['cntry'] == 'ES')]['sclmeet'].mean())\n",
    "\n",
    "F, p = stats.f_oneway(\n",
    "     df[(df['year'] == 7) & (df['cntry'] == 'CH')]['sclmeet'],\n",
    "     df[(df['year'] == 7) & (df['cntry'] == 'DE')]['sclmeet'],\n",
    "     df[(df['year'] == 7) & (df['cntry'] == 'ES')]['sclmeet'])\n",
    "\n",
    "# The F statistic.\n",
    "print(F)\n",
    "\n",
    "# The probability. A p < .05 would lead us to believe the group means were\n",
    "# not all similar in the population.\n",
    "print(p)"
   ]
  },
  {
   "cell_type": "markdown",
   "metadata": {},
   "source": [
    "As pvalue is less than 5% so there are statistically significant differences between all three countries and people from Spain are more socially meet with friends, relatives or colleagues compare to other two countries while in Germany less people socially meet compared to Spain and Switzerland."
   ]
  },
  {
   "cell_type": "markdown",
   "metadata": {},
   "source": [
    "## Pick three or four of the countries in the sample and compare how often people took part in social activities, relative to others their age, in 2014. Are there differences, and if so, which countries stand out?"
   ]
  },
  {
   "cell_type": "code",
   "execution_count": 146,
   "metadata": {},
   "outputs": [
    {
     "data": {
      "image/png": "[encoded data removed]",
      "text/plain": [
       "<Figure size 1440x432 with 3 Axes>"
      ]
     },
     "metadata": {
      "needs_background": "light"
     },
     "output_type": "display_data"
    }
   ],
   "source": [
    "plt.figure(figsize=(20, 6))\n",
    "\n",
    "plt.subplot(131)\n",
    "plt.hist(df[(df['year'] == 7) & (df['cntry'] == 'CH')]['sclact'])\n",
    "plt.title('Social activities compared to others of same age in 2014')\n",
    "plt.xlabel('sclact')\n",
    "\n",
    "plt.subplot(132)\n",
    "plt.hist(df[(df['year'] == 7) & (df['cntry'] == 'DE')]['sclact'])\n",
    "plt.title('Social activities compared to others of same age in 2014')\n",
    "plt.xlabel('sclact')\n",
    "\n",
    "plt.subplot(133)\n",
    "plt.hist(df[(df['year'] == 7) & (df['cntry'] == 'ES')]['sclact'])\n",
    "plt.title('Social activities compared to others of same age in 2014')\n",
    "plt.xlabel('sclact')\n",
    "\n",
    "plt.show()"
   ]
  },
  {
   "cell_type": "code",
   "execution_count": 147,
   "metadata": {},
   "outputs": [
    {
     "data": {
      "text/plain": [
       "KruskalResult(statistic=11.156562904978014, pvalue=0.003779054426025241)"
      ]
     },
     "execution_count": 147,
     "metadata": {},
     "output_type": "execute_result"
    }
   ],
   "source": [
    "stats.kruskal(df[(df['year'] == 7) & (df['cntry'] == 'CH')]['sclact'], \n",
    "              df[(df['year'] == 7) & (df['cntry'] == 'DE')]['sclact'],\n",
    "              df[(df['year'] == 7) & (df['cntry'] == 'ES')]['sclact'])"
   ]
  },
  {
   "cell_type": "markdown",
   "metadata": {},
   "source": [
    "The above analysis shows pvalue is less than 5% so there are statistically significant differences between all three countries."
   ]
  },
  {
   "cell_type": "code",
   "execution_count": 148,
   "metadata": {},
   "outputs": [
    {
     "name": "stdout",
     "output_type": "stream",
     "text": [
      "Mean Score social activities in Switzerland(CH) :  2.784656796769852\n",
      "Mean Score social activities in Germany(DE) :  2.7142857142857144\n",
      "Mean Score social activities in Spain(ES) :  2.631393298059965\n"
     ]
    }
   ],
   "source": [
    "print('Mean Score social activities in Switzerland(CH) : ', df[(df['year'] == 7) & (df['cntry'] == 'CH')]['sclact'].mean())\n",
    "print('Mean Score social activities in Germany(DE) : ', df[(df['year'] == 7) & (df['cntry'] == 'DE')]['sclact'].mean())\n",
    "print('Mean Score social activities in Spain(ES) : ', df[(df['year'] == 7) & (df['cntry'] == 'ES')]['sclact'].mean())"
   ]
  },
  {
   "cell_type": "markdown",
   "metadata": {},
   "source": [
    "Kruskal-Wallis test shows that there are statistically significant differences between all three countries."
   ]
  },
  {
   "cell_type": "code",
   "execution_count": null,
   "metadata": {},
   "outputs": [],
   "source": []
  }
 ],
 "metadata": {
  "kernelspec": {
   "display_name": "Python 3",
   "language": "python",
   "name": "python3"
  },
  "language_info": {
   "codemirror_mode": {
    "name": "ipython",
    "version": 3
   },
   "file_extension": ".py",
   "mimetype": "text/x-python",
   "name": "python",
   "nbconvert_exporter": "python",
   "pygments_lexer": "ipython3",
   "version": "3.7.0"
  }
 },
 "nbformat": 4,
 "nbformat_minor": 2
}
